{
 "cells": [
  {
   "cell_type": "code",
   "execution_count": 1,
   "metadata": {},
   "outputs": [],
   "source": [
    "#Import libraries\n",
    "\n",
    "import pandas as pd\n",
    "import requests\n",
    "import numpy as np\n",
    "from datetime import date\n",
    "import pyodbc"
   ]
  },
  {
   "cell_type": "code",
   "execution_count": 2,
   "metadata": {},
   "outputs": [],
   "source": [
    "# API Key and Series ID from EIA\n",
    "\n",
    "api_key = '131d8d818f34ec47f9335aea892e52d2'\n",
    "seriesid = 'PET.RCLC1.D'"
   ]
  },
  {
   "cell_type": "markdown",
   "metadata": {},
   "source": [
    "## Extract"
   ]
  },
  {
   "cell_type": "code",
   "execution_count": 3,
   "metadata": {},
   "outputs": [
    {
     "name": "stdout",
     "output_type": "stream",
     "text": [
      "Success!\n"
     ]
    }
   ],
   "source": [
    "#url = 'http://api.eia.gov/series/?api_key=' + api_key +'&series_id=' + PADD_KEY[i]\n",
    "url = 'http://api.eia.gov/series/?api_key='+api_key+'&series_id='+seriesid\n",
    "r = requests.get(url)\n",
    "json_data = r.json()\n",
    "    \n",
    "if r.status_code == 200:\n",
    "    print('Success!')\n",
    "else:\n",
    "    print('Error')\n",
    "\n",
    "df = pd.DataFrame(json_data.get('series')[0].get('data'),\n",
    "                 columns = ['Date', 'Dollars_per_Barrel'])"
   ]
  },
  {
   "cell_type": "markdown",
   "metadata": {},
   "source": [
    "## Transform"
   ]
  },
  {
   "cell_type": "code",
   "execution_count": 4,
   "metadata": {},
   "outputs": [],
   "source": [
    "# Create date as datetype datatype\n",
    "df['Year'] = df['Date'].astype(str).str[:4]\n",
    "df['Month'] = df['Date'].astype(str).str[4:6]\n",
    "df['Day'] = df['Date'].astype(str).str[6:]\n",
    "df['Date'] = pd.to_datetime(df[['Year','Month','Day']])"
   ]
  },
  {
   "cell_type": "code",
   "execution_count": 5,
   "metadata": {},
   "outputs": [],
   "source": [
    "# Now dropping the unnecessary columns >>> 'Year','Month','Day'\n",
    "df = df.drop(['Year','Month','Day'], axis=1) "
   ]
  },
  {
   "cell_type": "code",
   "execution_count": 6,
   "metadata": {},
   "outputs": [],
   "source": [
    "# # Set Date as the index column\n",
    "# df.set_index('Date', drop=True, inplace=True)"
   ]
  },
  {
   "cell_type": "markdown",
   "metadata": {},
   "source": [
    "## Load"
   ]
  },
  {
   "cell_type": "code",
   "execution_count": 8,
   "metadata": {},
   "outputs": [],
   "source": [
    "# Set connection to the database \n",
    "conn = pyodbc.connect('Driver={SQL Server};'\n",
    "                      'Server=LAPTOP-5BK23GEM;'\n",
    "                      'Database=demodb;'\n",
    "                      'Trusted_Connection=yes;')\n",
    "cursor = conn.cursor()"
   ]
  },
  {
   "cell_type": "raw",
   "metadata": {},
   "source": [
    "# Create a new table CrudeOil_FutureContract\n",
    "cursor.execute('CREATE TABLE CrudeOil_FutureContract (Date date, Dollars_per_Barrel float)')"
   ]
  },
  {
   "cell_type": "code",
   "execution_count": 9,
   "metadata": {},
   "outputs": [],
   "source": [
    "# Push the data the CrudeOil_FutureContract table in database\n",
    "\n",
    "for row in df.itertuples():\n",
    "    cursor.execute('''\n",
    "                INSERT INTO demodb.dbo.CrudeOil_FutureContract (Date, Dollars_per_Barrel)\n",
    "                VALUES (?,?)\n",
    "                ''',\n",
    "                row.Date, \n",
    "                row.Dollars_per_Barrel\n",
    "                )\n",
    "conn.commit()"
   ]
  }
 ],
 "metadata": {
  "kernelspec": {
   "display_name": "Python 3",
   "language": "python",
   "name": "python3"
  },
  "language_info": {
   "codemirror_mode": {
    "name": "ipython",
    "version": 3
   },
   "file_extension": ".py",
   "mimetype": "text/x-python",
   "name": "python",
   "nbconvert_exporter": "python",
   "pygments_lexer": "ipython3",
   "version": "3.7.4"
  }
 },
 "nbformat": 4,
 "nbformat_minor": 2
}
